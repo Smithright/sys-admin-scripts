{
 "cells": [
  {
   "cell_type": "markdown",
   "id": "1a06797c-94e7-40c6-b98f-25d4feeb48cc",
   "metadata": {},
   "source": [
    "# IN PROGRESS\n",
    "\n",
    "# CockroachDB Serverless Provisioning with Terraform\n",
    "\n",
    "## Introduction\n",
    "\n",
    "This notebook guides you through the process of provisioning a CockroachDB Cloud cluster using Terraform. Terraform is an infrastructure-as-code tool that enables you to define and manage resources in a declarative configuration language.\n",
    "\n",
    "Based on [CockroachDB Terraform Provider documentation](https://www.cockroachlabs.com/docs/cockroachcloud/provision-a-cluster-with-terraform)\n",
    "\n",
    "### Requirements\n",
    "\n",
    "Before starting, ensure you have:\n",
    "- Installed Terraform.\n",
    "- Created a service account and API key in the CockroachDB Cloud Console with admin privileges or Cluster Creator / Cluster Admin role.\n"
   ]
  },
  {
   "cell_type": "markdown",
   "id": "761f8c23",
   "metadata": {},
   "source": [
    "# Set Database Variables"
   ]
  },
  {
   "cell_type": "markdown",
   "id": "b2739ed1",
   "metadata": {},
   "source": [
    "Name your new CRDB cluster:"
   ]
  },
  {
   "cell_type": "code",
   "execution_count": null,
   "id": "eb4c7fee",
   "metadata": {},
   "outputs": [],
   "source": [
    "ClusterName = \"CRDB-Cluster-___\""
   ]
  },
  {
   "cell_type": "markdown",
   "id": "733a748d",
   "metadata": {},
   "source": [
    "## Configure regions:\n",
    "Region options: https://www.cockroachlabs.com/docs/cockroachcloud/regions\n",
    "\n",
    "*You can create a CockroachDB Serverless cluster with up to six regions. While multi-region CockroachDB Dedicated clusters must have a minimum of three regions, clusters can survive zone failures with only two regions. To survive a regional failure, a minimum of three regions is required. (https://www.cockroachlabs.com/docs/cockroachcloud/plan-your-cluster-serverless)*\n",
    "\n",
    "*Consider if you will want to use GCP Private Service Connect or AWS PrivateLink for in-network VPC peering i.e. connecting within GCP or AWS instead of over the public internet - to increase security and lower latency (https://www.cockroachlabs.com/docs/cockroachcloud/network-authorization#vpc-peering)*"
   ]
  },
  {
   "cell_type": "code",
   "execution_count": null,
   "id": "68a0b585",
   "metadata": {},
   "outputs": [],
   "source": [
    "CloudHost = \"GCP\"\n",
    "GCP-PrimaryRegion = \"us-east1\""
   ]
  },
  {
   "cell_type": "markdown",
   "id": "f915d144",
   "metadata": {},
   "source": [
    "## Set monthly spend limit:\n",
    "\n",
    "Understanding resource usage: https://www.cockroachlabs.com/docs/cockroachcloud/serverless-resource-usage#example-request-unit-calculation"
   ]
  },
  {
   "cell_type": "code",
   "execution_count": null,
   "id": "1d7b1456",
   "metadata": {},
   "outputs": [],
   "source": [
    "MonthlyCRDB-SpendLimit = 50"
   ]
  },
  {
   "cell_type": "markdown",
   "id": "b82c1934",
   "metadata": {},
   "source": [
    "## Encryption:"
   ]
  },
  {
   "cell_type": "markdown",
   "id": "d109cbf8",
   "metadata": {},
   "source": [
    "**Secret Management & Encrypted Storage**: Ensure all passwords, secrets, and keys are encrypted at rest and in transit.\n",
    "\n",
    "Here we'll use HashiCorp's Cloud Vault, a best-in-class enterprise grade secrets manager, with open source code and reputable hosting that interfaces well with multi-cloud architectures."
   ]
  },
  {
   "cell_type": "code",
   "execution_count": null,
   "id": "6eef5357",
   "metadata": {},
   "outputs": [],
   "source": [
    "#placeholder"
   ]
  },
  {
   "cell_type": "markdown",
   "id": "35b22039",
   "metadata": {},
   "source": [
    "**TLS Encryption**: Ensure all connections to CockroachDB are encrypted using TLS. Enforce minimum TLS version 1.2."
   ]
  },
  {
   "cell_type": "code",
   "execution_count": null,
   "id": "0286654f",
   "metadata": {},
   "outputs": [],
   "source": [
    "#placeholder"
   ]
  },
  {
   "cell_type": "markdown",
   "id": "d2d467e3",
   "metadata": {},
   "source": [
    "## Step 2: Create a Service Account and API Key\n",
    "\n",
    "Create a service account and API key in the CockroachDB Cloud Console. Assign admin privilege or Cluster Creator / Cluster Admin role at the organization scope.\n"
   ]
  },
  {
   "cell_type": "markdown",
   "id": "8033d33e",
   "metadata": {},
   "source": [
    "# Set up the provisioning script environment\n",
    "\n",
    "## This script will build and execute the provisioning script environment in your current terminal directory\n",
    "\n",
    "Navigate to the directory where you want to create your script environment:\n"
   ]
  },
  {
   "cell_type": "code",
   "execution_count": null,
   "id": "4828057b",
   "metadata": {},
   "outputs": [],
   "source": [
    "!cd ~/your/sys-admin-scripts/crdb-provisioning"
   ]
  },
  {
   "cell_type": "markdown",
   "id": "5b5fdf81",
   "metadata": {},
   "source": [
    "Define a unique conda environment name:"
   ]
  },
  {
   "cell_type": "code",
   "execution_count": null,
   "id": "81480e1e",
   "metadata": {},
   "outputs": [],
   "source": [
    "CondaEnv = \"ProvisionCRDB\""
   ]
  },
  {
   "cell_type": "markdown",
   "id": "0584533a",
   "metadata": {},
   "source": [
    "Then assign current directory as reference path for provisioning execution:"
   ]
  },
  {
   "cell_type": "code",
   "execution_count": 2,
   "id": "d6b937b6",
   "metadata": {},
   "outputs": [],
   "source": [
    "import os"
   ]
  },
  {
   "cell_type": "code",
   "execution_count": 5,
   "id": "e9138023",
   "metadata": {},
   "outputs": [
    {
     "name": "stdout",
     "output_type": "stream",
     "text": [
      "Confirm this is where you want your script environment: /Users/a_/Library/CloudStorage/GoogleDrive-ryan@smithright.com/Shared drives/Smithright DataWorks/SysAdmin_Scripts/cockroachdb_terraform\n"
     ]
    }
   ],
   "source": [
    "ProvDir = os.getcwd()\n",
    "print(\"Confirm this is where you want your script environment:\", ProvDir)"
   ]
  },
  {
   "cell_type": "markdown",
   "id": "93b9892c",
   "metadata": {},
   "source": [
    "Create a new conda environment with terraform installed.\n",
    "*-y auto-approves y/n prompts:"
   ]
  },
  {
   "cell_type": "code",
   "execution_count": null,
   "id": "ae849b4b",
   "metadata": {},
   "outputs": [],
   "source": [
    "#needs tested\n",
    "!conda create --name {CondaEnv} terraform -c conda-forge -y"
   ]
  },
  {
   "cell_type": "markdown",
   "id": "f41fdb7f",
   "metadata": {},
   "source": [
    "Initialize & active the new environment:"
   ]
  },
  {
   "cell_type": "code",
   "execution_count": 6,
   "id": "95b9b959",
   "metadata": {},
   "outputs": [
    {
     "name": "stdout",
     "output_type": "stream",
     "text": [
      "no change     /opt/anaconda3/condabin/conda\n",
      "no change     /opt/anaconda3/bin/conda\n",
      "no change     /opt/anaconda3/bin/conda-env\n",
      "no change     /opt/anaconda3/bin/activate\n",
      "no change     /opt/anaconda3/bin/deactivate\n",
      "no change     /opt/anaconda3/etc/profile.d/conda.sh\n",
      "no change     /opt/anaconda3/etc/fish/conf.d/conda.fish\n",
      "no change     /opt/anaconda3/shell/condabin/Conda.psm1\n",
      "no change     /opt/anaconda3/shell/condabin/conda-hook.ps1\n",
      "no change     /opt/anaconda3/lib/python3.11/site-packages/xontrib/conda.xsh\n",
      "no change     /opt/anaconda3/etc/profile.d/conda.csh\n",
      "no change     /Users/a_/.bash_profile\n",
      "No action taken.\n",
      "\n",
      "CondaError: Run 'conda init' before 'conda activate'\n",
      "\n"
     ]
    }
   ],
   "source": [
    "#needs tested\n",
    "!conda init\n",
    "!conda activate {CondaEnv}"
   ]
  },
  {
   "cell_type": "markdown",
   "id": "20ce5001",
   "metadata": {},
   "source": [
    "Verify terraform install:"
   ]
  },
  {
   "cell_type": "code",
   "execution_count": 7,
   "id": "420bff95",
   "metadata": {},
   "outputs": [
    {
     "name": "stdout",
     "output_type": "stream",
     "text": [
      "Terraform v1.8.4\n",
      "on darwin_arm64\n"
     ]
    }
   ],
   "source": [
    "!terraform --version"
   ]
  },
  {
   "cell_type": "markdown",
   "id": "3b7946f0",
   "metadata": {},
   "source": [
    "If running in vscode from a new conda env, you may need to install ipykernel:"
   ]
  },
  {
   "cell_type": "code",
   "execution_count": null,
   "id": "db37e77e",
   "metadata": {},
   "outputs": [],
   "source": [
    "!conda install ipykernel -y"
   ]
  },
  {
   "cell_type": "markdown",
   "id": "d251ac29",
   "metadata": {},
   "source": [
    "# Install CRDB"
   ]
  },
  {
   "cell_type": "markdown",
   "id": "eaf79f7c",
   "metadata": {},
   "source": [
    "I'm using brew for a mac install, but you can navigate to find install instructions for other systems from this link:\n",
    "https://www.cockroachlabs.com/docs/stable/install-cockroachdb-mac.html"
   ]
  },
  {
   "cell_type": "code",
   "execution_count": 13,
   "id": "67b17e63",
   "metadata": {},
   "outputs": [
    {
     "name": "stdout",
     "output_type": "stream",
     "text": [
      "\u001b[34m==>\u001b[0m \u001b[1mAuto-updating Homebrew...\u001b[0m\n",
      "Adjust how often this is run with HOMEBREW_AUTO_UPDATE_SECS or disable with\n",
      "HOMEBREW_NO_AUTO_UPDATE. Hide these hints with HOMEBREW_NO_ENV_HINTS (see `man brew`).\n",
      "\u001b[34m==>\u001b[0m \u001b[1mAuto-updated Homebrew!\u001b[0m\n",
      "Updated 1 tap (homebrew/core).\n",
      "\u001b[34m==>\u001b[0m \u001b[1mNew Formulae\u001b[0m\n",
      "haproxy@2.8                              pedump\n",
      "\n",
      "You have \u001b[1m13\u001b[0m outdated formulae installed.\n",
      "\n",
      "\u001b[34m==>\u001b[0m \u001b[1mTapping cockroachdb/tap\u001b[0m\n",
      "Cloning into '/opt/homebrew/Library/Taps/cockroachdb/homebrew-tap'...\n",
      "remote: Enumerating objects: 1022, done.\u001b[K\n",
      "remote: Counting objects: 100% (283/283), done.\u001b[K\n",
      "remote: Compressing objects: 100% (159/159), done.\u001b[K\n",
      "remote: Total 1022 (delta 129), reused 180 (delta 116), pack-reused 739\u001b[K\n",
      "Receiving objects: 100% (1022/1022), 215.72 KiB | 1.52 MiB/s, done.\n",
      "Resolving deltas: 100% (474/474), done.\n",
      "Tapped 5 formulae (32 files, 295.9KB).\n",
      "\u001b[32m==>\u001b[0m \u001b[1mFetching \u001b[32mcockroachdb/tap/cockroach\u001b[39m\u001b[0m\n",
      "\u001b[34m==>\u001b[0m \u001b[1mDownloading https://binaries.cockroachdb.com/cockroach-v23.2.5.darwin-11.0-a\u001b[0m\n",
      "######################################################################### 100.0%\n",
      "\u001b[34m==>\u001b[0m \u001b[1mInstalling cockroach from cockroachdb/tap\u001b[0m\n",
      "\u001b[34m==>\u001b[0m \u001b[1m/opt/homebrew/Cellar/cockroach/23.2.5/bin/cockroach gen man --path=/opt/home\u001b[0m\n",
      "\u001b[34m==>\u001b[0m \u001b[1m/opt/homebrew/Cellar/cockroach/23.2.5/bin/cockroach gen autocomplete bash --\u001b[0m\n",
      "\u001b[34m==>\u001b[0m \u001b[1m/opt/homebrew/Cellar/cockroach/23.2.5/bin/cockroach gen autocomplete zsh --o\u001b[0m\n",
      "\u001b[34m==>\u001b[0m \u001b[1mCaveats\u001b[0m\n",
      "For local development only, this formula ships a launchd configuration to\n",
      "start a single-node cluster that stores its data under:\n",
      "  /opt/homebrew/var/cockroach/\n",
      "Instead of the default port of 8080, the node serves its admin UI at:\n",
      "  \u001b[4mhttp://localhost:26256\u001b[24m\n",
      "\n",
      "Do NOT use this cluster to store data you care about; it runs in insecure\n",
      "mode and may expose data publicly in e.g. a DNS rebinding attack. To run\n",
      "CockroachDB securely, please see:\n",
      "  \u001b[4mhttps://www.cockroachlabs.com/docs/stable/secure-a-cluster.html\u001b[24m\n",
      "\n",
      "zsh completions have been installed to:\n",
      "  /opt/homebrew/share/zsh/site-functions\n",
      "\n",
      "To start cockroachdb/tap/cockroach now and restart at login:\n",
      "  brew services start cockroachdb/tap/cockroach\n",
      "Or, if you don't want/need a background service you can just run:\n",
      "  /opt/homebrew/opt/cockroach/bin/cockroach start-single-node --store\\=/opt/homebrew/var/cockroach --http-port\\=26256 --insecure --host\\=localhost\n",
      "\u001b[34m==>\u001b[0m \u001b[1mSummary\u001b[0m\n",
      "🍺  /opt/homebrew/Cellar/cockroach/23.2.5: 182 files, 254.2MB, built in 6 seconds\n",
      "\u001b[34m==>\u001b[0m \u001b[1mRunning `brew cleanup cockroach`...\u001b[0m\n",
      "Disable this behaviour by setting HOMEBREW_NO_INSTALL_CLEANUP.\n",
      "Hide these hints with HOMEBREW_NO_ENV_HINTS (see `man brew`).\n",
      "\u001b[32m==>\u001b[0m \u001b[1m`brew cleanup` has not been run in the last 30 days, running now...\u001b[0m\n",
      "Disable this behaviour by setting HOMEBREW_NO_INSTALL_CLEANUP.\n",
      "Hide these hints with HOMEBREW_NO_ENV_HINTS (see `man brew`).\n",
      "Removing: /Users/a_/Library/Caches/Homebrew/c-ares--1.28.1... (318.2KB)\n",
      "Removing: /Users/a_/Library/Caches/Homebrew/cjson--1.7.17... (56.1KB)\n",
      "Removing: /Users/a_/Library/Caches/Homebrew/dav1d--1.4.1... (354.2KB)\n",
      "Removing: /Users/a_/Library/Caches/Homebrew/glib--2.80.0_2... (8.4MB)\n",
      "Removing: /Users/a_/Library/Caches/Homebrew/jupyterlab--4.1.6_1... (34.3MB)\n",
      "Removing: /Users/a_/Library/Caches/Homebrew/libass--0.17.1_1... (208.8KB)\n",
      "Removing: /Users/a_/Library/Caches/Homebrew/node--22.0.0... (17.6MB)\n",
      "Removing: /Users/a_/Library/Caches/Homebrew/pandoc--3.1.13... (51.2MB)\n",
      "Removing: /Users/a_/Library/Caches/Homebrew/snappy--1.2.0... (44.3KB)\n",
      "Removing: /Users/a_/Library/Caches/Homebrew/sqlite--3.45.3... (2.2MB)\n",
      "Removing: /Users/a_/Library/Caches/Homebrew/svt-av1--2.0.0... (1.6MB)\n",
      "Removing: /Users/a_/Library/Caches/Homebrew/util-linux--2.39.3... (4.9MB)\n",
      "\u001b[32m==>\u001b[0m \u001b[1mAutoremoving 1 unneeded formula:\u001b[0m\n",
      "python@3.11\n",
      "Uninstalling /opt/homebrew/Cellar/python@3.11/3.11.9... (3,328 files, 62.4MB)\n",
      "Removing: /Users/a_/Library/Caches/Homebrew/Cask/google-cloud-sdk--473.0.0.tar.gz... (49.3MB)\n",
      "Removing: /Users/a_/Library/Caches/Homebrew/api-source/Homebrew/homebrew-cask/ce1935544b3a314e21a2bc848f91d96b7ae28f2a/Cask/google-cloud-sdk.rb... (2.6KB)\n",
      "Removing: /Users/a_/Library/Logs/Homebrew/python@3.12... (2 files, 2KB)\n",
      "Removing: /Users/a_/Library/Logs/Homebrew/openssl@3... (64B)\n",
      "Removing: /Users/a_/Library/Logs/Homebrew/ca-certificates... (64B)\n",
      "Removing: /Users/a_/Library/Logs/Homebrew/node... (64B)\n",
      "Removing: /Users/a_/Library/Logs/Homebrew/python@3.11... (2 files, 2.5KB)\n",
      "Pruned 0 symbolic links and 5 directories from /opt/homebrew\n"
     ]
    }
   ],
   "source": [
    "!brew install cockroachdb/tap/cockroach"
   ]
  },
  {
   "cell_type": "code",
   "execution_count": null,
   "id": "eb2b6a6e",
   "metadata": {},
   "outputs": [],
   "source": [
    "! brew update"
   ]
  },
  {
   "cell_type": "code",
   "execution_count": 14,
   "id": "7ed094e3",
   "metadata": {},
   "outputs": [
    {
     "name": "stdout",
     "output_type": "stream",
     "text": [
      "\u001b[33mWarning:\u001b[0m cockroachdb/tap/cockroach 23.2.5 already installed\n"
     ]
    }
   ],
   "source": [
    "! brew upgrade cockroach"
   ]
  },
  {
   "cell_type": "code",
   "execution_count": 16,
   "id": "dc60492d",
   "metadata": {},
   "outputs": [
    {
     "name": "stdout",
     "output_type": "stream",
     "text": [
      "/opt/homebrew/bin/cockroach\n"
     ]
    }
   ],
   "source": [
    "# check for successful install\n",
    "! which cockroach"
   ]
  },
  {
   "cell_type": "markdown",
   "id": "14daf0c0",
   "metadata": {},
   "source": [
    "## Step 3: Create the Terraform Configuration Files\n",
    "\n",
    "Terraform uses configuration files to define resources. Create a new directory and download the CockroachDB Serverless `main.tf` example file.\n"
   ]
  },
  {
   "cell_type": "code",
   "execution_count": 11,
   "id": "8f7b34d6",
   "metadata": {},
   "outputs": [
    {
     "name": "stdout",
     "output_type": "stream",
     "text": [
      "  % Total    % Received % Xferd  Average Speed   Time    Time     Time  Current\n",
      "                                 Dload  Upload   Total   Spent    Left  Speed\n",
      "100  2416  100  2416    0     0  14773      0 --:--:-- --:--:-- --:--:-- 14822\n"
     ]
    }
   ],
   "source": [
    "!mkdir -p crdb_terraform \n",
    "!curl -o ./crdb_terraform/main.tf https://raw.githubusercontent.com/cockroachdb/terraform-provider-cockroach/main/examples/workflows/cockroach_serverless_cluster/main.tf"
   ]
  },
  {
   "cell_type": "markdown",
   "id": "4d52c6ef",
   "metadata": {},
   "source": [
    "Create a `terraform.tfvars` file with the following settings:"
   ]
  },
  {
   "cell_type": "code",
   "execution_count": null,
   "id": "8d67809b",
   "metadata": {},
   "outputs": [],
   "source": [
    "#needs tested\n",
    "%%writefile terraform.tfvars\n",
    "cluster_name = \"default-cluster\"\n",
    "sql_user_name = \"CRDB_SQL\"\n",
    "sql_user_password = \"REPLACE_THIS_ZSSZDLFKAEJCRAWEPORCXIWEURAWEAWCERAWERCAWEVRAEW\""
   ]
  },
  {
   "cell_type": "markdown",
   "id": "a8cc2de9",
   "metadata": {},
   "source": [
    "Set the environment variable `COCKROACH_API_KEY` with your API key from the CockroachDB Cloud Console:"
   ]
  },
  {
   "cell_type": "markdown",
   "id": "1d792298",
   "metadata": {},
   "source": [
    "import os\n",
    "\n",
    "os.environ['COCKROACH_API_KEY'] = \"your_api_key_here\""
   ]
  },
  {
   "cell_type": "markdown",
   "id": "330b4812",
   "metadata": {},
   "source": [
    "## Step 4: Provision the Cluster\n",
    "\n",
    "Initialize the Terraform provider. This reads the `main.tf` configuration file and uses the `terraform.tfvars` file for cluster settings."
   ]
  },
  {
   "cell_type": "code",
   "execution_count": null,
   "id": "c79b6d9f",
   "metadata": {},
   "outputs": [],
   "source": [
    "!terraform init -upgrade"
   ]
  },
  {
   "cell_type": "markdown",
   "id": "4ff4482a",
   "metadata": {},
   "source": [
    "Create the Terraform plan to preview the actions that will be taken:"
   ]
  },
  {
   "cell_type": "code",
   "execution_count": null,
   "id": "96a3293f",
   "metadata": {},
   "outputs": [],
   "source": [
    "!terraform plan"
   ]
  },
  {
   "cell_type": "markdown",
   "id": "eaaba22c",
   "metadata": {},
   "source": [
    "Apply the Terraform plan to create the cluster:"
   ]
  },
  {
   "cell_type": "code",
   "execution_count": null,
   "id": "909fac3f",
   "metadata": {},
   "outputs": [],
   "source": [
    "!terraform apply -auto-approve"
   ]
  },
  {
   "cell_type": "markdown",
   "id": "277635ff",
   "metadata": {},
   "source": [
    "## Step 5: Get Information About Your Cluster\n",
    "\n",
    "The `terraform show` command displays detailed information about your cluster resources."
   ]
  },
  {
   "cell_type": "code",
   "execution_count": null,
   "id": "7f0993fc",
   "metadata": {},
   "outputs": [],
   "source": [
    "!terraform show"
   ]
  },
  {
   "cell_type": "markdown",
   "id": "016d9f18",
   "metadata": {},
   "source": [
    "# Security configuration"
   ]
  },
  {
   "cell_type": "markdown",
   "id": "738daa51",
   "metadata": {},
   "source": [
    "## Network Security:"
   ]
  },
  {
   "cell_type": "markdown",
   "id": "b40b29ae",
   "metadata": {},
   "source": [
    "**Virtual Private Cloud (VPC) Peering**: Ensure the CockroachDB cluster is accessible only through VPC peering, thus isolating it from the public internet."
   ]
  },
  {
   "cell_type": "code",
   "execution_count": null,
   "id": "72e0f483",
   "metadata": {},
   "outputs": [],
   "source": [
    "#placeholder"
   ]
  },
  {
   "cell_type": "markdown",
   "id": "402c0d0c",
   "metadata": {},
   "source": [
    "**Firewall Rules**: Implement strict ingress and egress firewall rules. Only allow traffic from trusted IP addresses or CIDR ranges.\n"
   ]
  },
  {
   "cell_type": "code",
   "execution_count": null,
   "id": "483210f5",
   "metadata": {},
   "outputs": [],
   "source": [
    "#placeholder"
   ]
  },
  {
   "cell_type": "markdown",
   "id": "9f1b997a",
   "metadata": {},
   "source": [
    "**Private Endpoints**: Use private endpoints for connecting to your CockroachDB cluster to avoid exposing endpoints publicly."
   ]
  },
  {
   "cell_type": "code",
   "execution_count": null,
   "id": "23b72009",
   "metadata": {},
   "outputs": [],
   "source": [
    "#placeholder"
   ]
  },
  {
   "cell_type": "markdown",
   "id": "02629532",
   "metadata": {},
   "source": [
    "## Authentication:"
   ]
  },
  {
   "cell_type": "markdown",
   "id": "404d0b12",
   "metadata": {},
   "source": [
    "**Service Accounts**: Allow only service accounts for automated access with least privilege."
   ]
  },
  {
   "cell_type": "code",
   "execution_count": null,
   "id": "52f8ee92",
   "metadata": {},
   "outputs": [],
   "source": [
    "#placeholder"
   ]
  },
  {
   "cell_type": "markdown",
   "id": "e1e6ab78",
   "metadata": {},
   "source": [
    "**Multi-Factor Authentication (MFA)**: Enforce MFA for accessing the CockroachDB Cloud Console."
   ]
  },
  {
   "cell_type": "code",
   "execution_count": null,
   "id": "f294507a",
   "metadata": {},
   "outputs": [],
   "source": [
    "#placeholder"
   ]
  },
  {
   "cell_type": "markdown",
   "id": "4061fe18",
   "metadata": {},
   "source": [
    "**Rotate Credentials**: Automate rotation of passwords and API keys to minimize risk from compromised credentials."
   ]
  },
  {
   "cell_type": "code",
   "execution_count": null,
   "id": "f5a851ba",
   "metadata": {},
   "outputs": [],
   "source": [
    "#placeholder"
   ]
  },
  {
   "cell_type": "markdown",
   "id": "065631c1",
   "metadata": {},
   "source": [
    "# Logging & Monitoring:"
   ]
  },
  {
   "cell_type": "markdown",
   "id": "cd11a87d",
   "metadata": {},
   "source": [
    "**Activity Logging**: Enable detailed logging of all access and modification activities within the CockroachDB cluster."
   ]
  },
  {
   "cell_type": "code",
   "execution_count": null,
   "id": "d411bca6",
   "metadata": {},
   "outputs": [],
   "source": [
    "#placeholder"
   ]
  },
  {
   "cell_type": "markdown",
   "id": "f16d2d9e",
   "metadata": {},
   "source": [
    "**Intrusion Detection Systems (IDS)**: Integrate with IDS to detect and respond to suspicious activities."
   ]
  },
  {
   "cell_type": "code",
   "execution_count": null,
   "id": "feb30643",
   "metadata": {},
   "outputs": [],
   "source": [
    "#placeholder"
   ]
  },
  {
   "cell_type": "markdown",
   "id": "d87e9329",
   "metadata": {},
   "source": [
    "**Automated Alerts**: Set up automated alerts for unusual access patterns or potential breaches."
   ]
  },
  {
   "cell_type": "code",
   "execution_count": null,
   "id": "80847d7c",
   "metadata": {},
   "outputs": [],
   "source": [
    "#placeholder"
   ]
  },
  {
   "cell_type": "markdown",
   "id": "d80b976d",
   "metadata": {},
   "source": [
    "# Security Audits & Compliance:"
   ]
  },
  {
   "cell_type": "markdown",
   "id": "98d48391",
   "metadata": {},
   "source": [
    "**Vulnerability Scanning**: Conduct regular vulnerability scans to identify and mitigate potential security weaknesses."
   ]
  },
  {
   "cell_type": "code",
   "execution_count": null,
   "id": "1f9baacb",
   "metadata": {},
   "outputs": [],
   "source": [
    "#placeholder"
   ]
  },
  {
   "cell_type": "markdown",
   "id": "f8666da4",
   "metadata": {},
   "source": [
    "**Compliance Checks**: Ensure that your CockroachDB setup complies with industry standards and regulations."
   ]
  },
  {
   "cell_type": "markdown",
   "id": "7530e459",
   "metadata": {},
   "source": [
    "GDPR configuration:"
   ]
  },
  {
   "cell_type": "code",
   "execution_count": null,
   "id": "c4ab67c2",
   "metadata": {},
   "outputs": [],
   "source": [
    "#placeholder"
   ]
  },
  {
   "cell_type": "markdown",
   "id": "64d97ece",
   "metadata": {},
   "source": [
    "HIPAA configuration:"
   ]
  },
  {
   "cell_type": "code",
   "execution_count": null,
   "id": "36425347",
   "metadata": {},
   "outputs": [],
   "source": [
    "#placeholder"
   ]
  },
  {
   "cell_type": "markdown",
   "id": "a9b5a13e",
   "metadata": {},
   "source": [
    "## Conclusion\n",
    "\n",
    "You have successfully provisioned a CockroachDB Cloud cluster using Terraform. This notebook covered the setup and execution of Terraform commands to manage CockroachDB resources. For more information, refer to the official [CockroachDB Terraform Provider documentation](https://www.cockroachlabs.com/docs/cockroachcloud/provision-a-cluster-with-terraform)."
   ]
  },
  {
   "cell_type": "markdown",
   "id": "918b72c7",
   "metadata": {},
   "source": []
  }
 ],
 "metadata": {
  "kernelspec": {
   "display_name": "Python 3 (ipykernel)",
   "language": "python",
   "name": "python3"
  },
  "language_info": {
   "codemirror_mode": {
    "name": "ipython",
    "version": 3
   },
   "file_extension": ".py",
   "mimetype": "text/x-python",
   "name": "python",
   "nbconvert_exporter": "python",
   "pygments_lexer": "ipython3",
   "version": "3.12.3"
  }
 },
 "nbformat": 4,
 "nbformat_minor": 5
}
