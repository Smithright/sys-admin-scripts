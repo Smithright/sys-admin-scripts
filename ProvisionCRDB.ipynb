{
 "cells": [
  {
   "cell_type": "code",
   "execution_count": null,
   "id": "81480e1e",
   "metadata": {},
   "outputs": [],
   "source": [
    "# Set project variables\n",
    "ProjDir = \"~/ProjectDirectory\"\n",
    "ProjectEnv = \"ProjectEnv\""
   ]
  },
  {
   "cell_type": "code",
   "execution_count": 3,
   "id": "db37e77e",
   "metadata": {},
   "outputs": [
    {
     "name": "stdout",
     "output_type": "stream",
     "text": [
      "Channels:\n",
      " - defaults\n",
      " - conda-forge\n",
      "Platform: osx-arm64\n",
      "Collecting package metadata (repodata.json): done\n",
      "Solving environment: done\n",
      "\n",
      "## Package Plan ##\n",
      "\n",
      "  environment location: /opt/anaconda3/envs/TerraformEnv\n",
      "\n",
      "  added / updated specs:\n",
      "    - ipykernel\n",
      "\n",
      "\n",
      "The following packages will be UPDATED:\n",
      "\n",
      "  ca-certificates    conda-forge::ca-certificates-2024.2.2~ --> pkgs/main::ca-certificates-2024.3.11-hca03da5_0 \n",
      "\n",
      "\n",
      "\n",
      "Downloading and Extracting Packages:\n",
      "\n",
      "Preparing transaction: done\n",
      "Verifying transaction: done\n",
      "Executing transaction: done\n"
     ]
    }
   ],
   "source": [
    "# If running in vscode:\n",
    "!conda install ipykernel -y"
   ]
  },
  {
   "cell_type": "code",
   "execution_count": 15,
   "id": "ae849b4b",
   "metadata": {},
   "outputs": [
    {
     "name": "stdout",
     "output_type": "stream",
     "text": [
      "Channels:\n",
      " - conda-forge\n",
      " - defaults\n",
      "Platform: osx-arm64\n",
      "Collecting package metadata (repodata.json): done\n",
      "Solving environment: done\n",
      "\n",
      "## Package Plan ##\n",
      "\n",
      "  environment location: /opt/anaconda3/envs/TerraformEnv\n",
      "\n",
      "  added / updated specs:\n",
      "    - terraform\n",
      "\n",
      "\n",
      "The following NEW packages will be INSTALLED:\n",
      "\n",
      "  terraform          conda-forge/osx-arm64::terraform-1.8.4-h75b854d_0 \n",
      "\n",
      "\n",
      "\n",
      "Downloading and Extracting Packages:\n",
      "\n",
      "Preparing transaction: done\n",
      "Verifying transaction: done\n",
      "Executing transaction: done\n",
      "#\n",
      "# To activate this environment, use\n",
      "#\n",
      "#     $ conda activate TerraformEnv\n",
      "#\n",
      "# To deactivate an active environment, use\n",
      "#\n",
      "#     $ conda deactivate\n",
      "\n"
     ]
    }
   ],
   "source": [
    "!conda create --name TerraformEnv terraform -c conda-forge -y\n"
   ]
  },
  {
   "cell_type": "code",
   "execution_count": 6,
   "id": "95b9b959",
   "metadata": {},
   "outputs": [
    {
     "name": "stdout",
     "output_type": "stream",
     "text": [
      "no change     /opt/anaconda3/condabin/conda\n",
      "no change     /opt/anaconda3/bin/conda\n",
      "no change     /opt/anaconda3/bin/conda-env\n",
      "no change     /opt/anaconda3/bin/activate\n",
      "no change     /opt/anaconda3/bin/deactivate\n",
      "no change     /opt/anaconda3/etc/profile.d/conda.sh\n",
      "no change     /opt/anaconda3/etc/fish/conf.d/conda.fish\n",
      "no change     /opt/anaconda3/shell/condabin/Conda.psm1\n",
      "no change     /opt/anaconda3/shell/condabin/conda-hook.ps1\n",
      "no change     /opt/anaconda3/lib/python3.11/site-packages/xontrib/conda.xsh\n",
      "no change     /opt/anaconda3/etc/profile.d/conda.csh\n",
      "no change     /Users/a_/.bash_profile\n",
      "No action taken.\n",
      "\n",
      "CondaError: Run 'conda init' before 'conda activate'\n",
      "\n"
     ]
    }
   ],
   "source": [
    "!conda init\n",
    "!conda activate TerraformEnv"
   ]
  },
  {
   "cell_type": "code",
   "execution_count": 7,
   "id": "420bff95",
   "metadata": {},
   "outputs": [
    {
     "name": "stdout",
     "output_type": "stream",
     "text": [
      "Terraform v1.8.4\n",
      "on darwin_arm64\n"
     ]
    }
   ],
   "source": [
    "!terraform --version"
   ]
  },
  {
   "cell_type": "markdown",
   "id": "1a06797c-94e7-40c6-b98f-25d4feeb48cc",
   "metadata": {},
   "source": [
    "# CockroachDB Provisioning with Terraform\n",
    "\n",
    "## Introduction\n",
    "\n",
    "This notebook guides you through the process of provisioning a CockroachDB Cloud cluster using Terraform. Terraform is an infrastructure-as-code tool that enables you to define and manage resources in a declarative configuration language.\n",
    "\n",
    "### Requirements\n",
    "\n",
    "Before starting, ensure you have:\n",
    "- Installed Terraform.\n",
    "- Created a service account and API key in the CockroachDB Cloud Console with admin privileges or Cluster Creator / Cluster Admin role.\n"
   ]
  },
  {
   "cell_type": "markdown",
   "id": "d2d467e3",
   "metadata": {},
   "source": [
    "## Step 2: Create a Service Account and API Key\n",
    "\n",
    "Create a service account and API key in the CockroachDB Cloud Console. Assign admin privilege or Cluster Creator / Cluster Admin role at the organization scope.\n"
   ]
  },
  {
   "cell_type": "markdown",
   "id": "14daf0c0",
   "metadata": {},
   "source": [
    "## Step 3: Create the Terraform Configuration Files\n",
    "\n",
    "Terraform uses configuration files to define resources. Create a new directory and download the CockroachDB Serverless `main.tf` example file.\n"
   ]
  },
  {
   "cell_type": "code",
   "execution_count": 11,
   "id": "8f7b34d6",
   "metadata": {},
   "outputs": [
    {
     "name": "stdout",
     "output_type": "stream",
     "text": [
      "  % Total    % Received % Xferd  Average Speed   Time    Time     Time  Current\n",
      "                                 Dload  Upload   Total   Spent    Left  Speed\n",
      "100  2416  100  2416    0     0  14773      0 --:--:-- --:--:-- --:--:-- 14822\n"
     ]
    }
   ],
   "source": [
    "!mkdir -p cockroachdb_terraform \n",
    "!curl -o ./cockroachdb_terraform/main.tf https://raw.githubusercontent.com/cockroachdb/terraform-provider-cockroach/main/examples/workflows/cockroach_serverless_cluster/main.tf"
   ]
  },
  {
   "cell_type": "markdown",
   "id": "4d52c6ef",
   "metadata": {},
   "source": [
    "Create a `terraform.tfvars` file with the following settings:"
   ]
  },
  {
   "cell_type": "code",
   "execution_count": null,
   "id": "8d67809b",
   "metadata": {},
   "outputs": [],
   "source": [
    "%%writefile terraform.tfvars\n",
    "cluster_name = \"default-cluster\"\n",
    "sql_user_name = \"CRDB_SQL\"\n",
    "sql_user_password = \"REPLACE_THIS_ZSSZDLFKAEJCRAWEPORCXIWEURAWEAWCERAWERCAWEVRAEW\""
   ]
  },
  {
   "cell_type": "markdown",
   "id": "a8cc2de9",
   "metadata": {},
   "source": [
    "Set the environment variable `COCKROACH_API_KEY` with your API key from the CockroachDB Cloud Console:"
   ]
  },
  {
   "cell_type": "markdown",
   "id": "1d792298",
   "metadata": {},
   "source": [
    "import os\n",
    "\n",
    "os.environ['COCKROACH_API_KEY'] = \"your_api_key_here\""
   ]
  },
  {
   "cell_type": "markdown",
   "id": "330b4812",
   "metadata": {},
   "source": [
    "## Step 4: Provision the Cluster\n",
    "\n",
    "Initialize the Terraform provider. This reads the `main.tf` configuration file and uses the `terraform.tfvars` file for cluster settings."
   ]
  },
  {
   "cell_type": "code",
   "execution_count": null,
   "id": "c79b6d9f",
   "metadata": {},
   "outputs": [],
   "source": [
    "!terraform init -upgrade"
   ]
  },
  {
   "cell_type": "markdown",
   "id": "4ff4482a",
   "metadata": {},
   "source": [
    "Create the Terraform plan to preview the actions that will be taken:"
   ]
  },
  {
   "cell_type": "code",
   "execution_count": null,
   "id": "96a3293f",
   "metadata": {},
   "outputs": [],
   "source": [
    "!terraform plan"
   ]
  },
  {
   "cell_type": "markdown",
   "id": "eaaba22c",
   "metadata": {},
   "source": [
    "Apply the Terraform plan to create the cluster:"
   ]
  },
  {
   "cell_type": "code",
   "execution_count": null,
   "id": "909fac3f",
   "metadata": {},
   "outputs": [],
   "source": [
    "!terraform apply -auto-approve"
   ]
  },
  {
   "cell_type": "markdown",
   "id": "277635ff",
   "metadata": {},
   "source": [
    "## Step 5: Get Information About Your Cluster\n",
    "\n",
    "The `terraform show` command displays detailed information about your cluster resources."
   ]
  },
  {
   "cell_type": "code",
   "execution_count": null,
   "id": "7f0993fc",
   "metadata": {},
   "outputs": [],
   "source": [
    "!terraform show"
   ]
  },
  {
   "cell_type": "markdown",
   "id": "a9b5a13e",
   "metadata": {},
   "source": [
    "## Conclusion\n",
    "\n",
    "You have successfully provisioned a CockroachDB Cloud cluster using Terraform. This notebook covered the setup and execution of Terraform commands to manage CockroachDB resources. For more information, refer to the official [CockroachDB Terraform Provider documentation](https://www.cockroachlabs.com/docs/cockroachcloud/provision-a-cluster-with-terraform)."
   ]
  },
  {
   "cell_type": "markdown",
   "id": "918b72c7",
   "metadata": {},
   "source": []
  }
 ],
 "metadata": {
  "kernelspec": {
   "display_name": "Python 3 (ipykernel)",
   "language": "python",
   "name": "python3"
  },
  "language_info": {
   "codemirror_mode": {
    "name": "ipython",
    "version": 3
   },
   "file_extension": ".py",
   "mimetype": "text/x-python",
   "name": "python",
   "nbconvert_exporter": "python",
   "pygments_lexer": "ipython3",
   "version": "3.12.3"
  }
 },
 "nbformat": 4,
 "nbformat_minor": 5
}
